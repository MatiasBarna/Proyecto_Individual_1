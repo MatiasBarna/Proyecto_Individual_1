{
 "cells": [
  {
   "cell_type": "code",
   "execution_count": 1,
   "metadata": {},
   "outputs": [],
   "source": [
    "import json \n",
    "import pandas as pd\n",
    "import numpy as np \n",
    "import gdown\n",
    "from langdetect import detect \n",
    "import nltk\n",
    "from nltk.sentiment import SentimentIntensityAnalyzer"
   ]
  },
  {
   "cell_type": "code",
   "execution_count": 2,
   "metadata": {},
   "outputs": [
    {
     "name": "stderr",
     "output_type": "stream",
     "text": [
      "[nltk_data] Downloading package vader_lexicon to C:\\Users\\Mati\n",
      "[nltk_data]     Barna\\AppData\\Roaming\\nltk_data...\n",
      "[nltk_data]   Package vader_lexicon is already up-to-date!\n"
     ]
    },
    {
     "data": {
      "text/plain": [
       "True"
      ]
     },
     "execution_count": 2,
     "metadata": {},
     "output_type": "execute_result"
    }
   ],
   "source": [
    "# VADER es un analizador de sentimientos diseñado específicamente para textos sociales\n",
    "nltk.download('vader_lexicon')"
   ]
  },
  {
   "cell_type": "code",
   "execution_count": 3,
   "metadata": {},
   "outputs": [],
   "source": [
    "# SE CARGAN LOS ARCHIVOS ORIGINALES\n",
    "# Nombre del archivo JSON\n",
    "nombre_archivo = 'australian_user_reviews.json'\n",
    "\n",
    "# Se abre el archivo en modo lectura ('r') con codificación utf-8\n",
    "with open(nombre_archivo, 'r', encoding='utf-8') as archivo:\n",
    "    # Leer todas las líneas del archivo y almacenarlas en la lista 'datos'\n",
    "    datos = archivo.readlines()\n",
    "\n",
    "# Se convierten las líneas en registros utilizando eval y eliminando los espacios alrededor\n",
    "registros = [eval(line.strip()) for line in datos]\n",
    "\n",
    "# Se crea un DataFrame de pandas a partir de los registros\n",
    "df_UserReviews = pd.DataFrame(registros)"
   ]
  },
  {
   "cell_type": "code",
   "execution_count": 4,
   "metadata": {},
   "outputs": [
    {
     "data": {
      "text/html": [
       "<div>\n",
       "<style scoped>\n",
       "    .dataframe tbody tr th:only-of-type {\n",
       "        vertical-align: middle;\n",
       "    }\n",
       "\n",
       "    .dataframe tbody tr th {\n",
       "        vertical-align: top;\n",
       "    }\n",
       "\n",
       "    .dataframe thead th {\n",
       "        text-align: right;\n",
       "    }\n",
       "</style>\n",
       "<table border=\"1\" class=\"dataframe\">\n",
       "  <thead>\n",
       "    <tr style=\"text-align: right;\">\n",
       "      <th></th>\n",
       "      <th>user_id</th>\n",
       "      <th>user_url</th>\n",
       "      <th>reviews</th>\n",
       "    </tr>\n",
       "  </thead>\n",
       "  <tbody>\n",
       "    <tr>\n",
       "      <th>0</th>\n",
       "      <td>76561197970982479</td>\n",
       "      <td>http://steamcommunity.com/profiles/76561197970...</td>\n",
       "      <td>[{'funny': '', 'posted': 'Posted November 5, 2...</td>\n",
       "    </tr>\n",
       "    <tr>\n",
       "      <th>1</th>\n",
       "      <td>js41637</td>\n",
       "      <td>http://steamcommunity.com/id/js41637</td>\n",
       "      <td>[{'funny': '', 'posted': 'Posted June 24, 2014...</td>\n",
       "    </tr>\n",
       "    <tr>\n",
       "      <th>2</th>\n",
       "      <td>evcentric</td>\n",
       "      <td>http://steamcommunity.com/id/evcentric</td>\n",
       "      <td>[{'funny': '', 'posted': 'Posted February 3.',...</td>\n",
       "    </tr>\n",
       "    <tr>\n",
       "      <th>3</th>\n",
       "      <td>doctr</td>\n",
       "      <td>http://steamcommunity.com/id/doctr</td>\n",
       "      <td>[{'funny': '', 'posted': 'Posted October 14, 2...</td>\n",
       "    </tr>\n",
       "    <tr>\n",
       "      <th>4</th>\n",
       "      <td>maplemage</td>\n",
       "      <td>http://steamcommunity.com/id/maplemage</td>\n",
       "      <td>[{'funny': '3 people found this review funny',...</td>\n",
       "    </tr>\n",
       "  </tbody>\n",
       "</table>\n",
       "</div>"
      ],
      "text/plain": [
       "             user_id                                           user_url  \\\n",
       "0  76561197970982479  http://steamcommunity.com/profiles/76561197970...   \n",
       "1            js41637               http://steamcommunity.com/id/js41637   \n",
       "2          evcentric             http://steamcommunity.com/id/evcentric   \n",
       "3              doctr                 http://steamcommunity.com/id/doctr   \n",
       "4          maplemage             http://steamcommunity.com/id/maplemage   \n",
       "\n",
       "                                             reviews  \n",
       "0  [{'funny': '', 'posted': 'Posted November 5, 2...  \n",
       "1  [{'funny': '', 'posted': 'Posted June 24, 2014...  \n",
       "2  [{'funny': '', 'posted': 'Posted February 3.',...  \n",
       "3  [{'funny': '', 'posted': 'Posted October 14, 2...  \n",
       "4  [{'funny': '3 people found this review funny',...  "
      ]
     },
     "execution_count": 4,
     "metadata": {},
     "output_type": "execute_result"
    }
   ],
   "source": [
    "# SE EXPLORAN Y ENTIENDEN LOS DATOS\n",
    "df_UserReviews.head()"
   ]
  },
  {
   "cell_type": "code",
   "execution_count": 5,
   "metadata": {},
   "outputs": [
    {
     "data": {
      "text/html": [
       "<div>\n",
       "<style scoped>\n",
       "    .dataframe tbody tr th:only-of-type {\n",
       "        vertical-align: middle;\n",
       "    }\n",
       "\n",
       "    .dataframe tbody tr th {\n",
       "        vertical-align: top;\n",
       "    }\n",
       "\n",
       "    .dataframe thead th {\n",
       "        text-align: right;\n",
       "    }\n",
       "</style>\n",
       "<table border=\"1\" class=\"dataframe\">\n",
       "  <thead>\n",
       "    <tr style=\"text-align: right;\">\n",
       "      <th></th>\n",
       "      <th>user_id</th>\n",
       "      <th>user_url</th>\n",
       "      <th>funny</th>\n",
       "      <th>posted</th>\n",
       "      <th>last_edited</th>\n",
       "      <th>item_id</th>\n",
       "      <th>helpful</th>\n",
       "      <th>recommend</th>\n",
       "      <th>review</th>\n",
       "    </tr>\n",
       "  </thead>\n",
       "  <tbody>\n",
       "    <tr>\n",
       "      <th>0</th>\n",
       "      <td>76561197970982479</td>\n",
       "      <td>http://steamcommunity.com/profiles/76561197970...</td>\n",
       "      <td></td>\n",
       "      <td>Posted November 5, 2011.</td>\n",
       "      <td></td>\n",
       "      <td>1250</td>\n",
       "      <td>No ratings yet</td>\n",
       "      <td>True</td>\n",
       "      <td>Simple yet with great replayability. In my opi...</td>\n",
       "    </tr>\n",
       "    <tr>\n",
       "      <th>1</th>\n",
       "      <td>76561197970982479</td>\n",
       "      <td>http://steamcommunity.com/profiles/76561197970...</td>\n",
       "      <td></td>\n",
       "      <td>Posted July 15, 2011.</td>\n",
       "      <td></td>\n",
       "      <td>22200</td>\n",
       "      <td>No ratings yet</td>\n",
       "      <td>True</td>\n",
       "      <td>It's unique and worth a playthrough.</td>\n",
       "    </tr>\n",
       "    <tr>\n",
       "      <th>2</th>\n",
       "      <td>76561197970982479</td>\n",
       "      <td>http://steamcommunity.com/profiles/76561197970...</td>\n",
       "      <td></td>\n",
       "      <td>Posted April 21, 2011.</td>\n",
       "      <td></td>\n",
       "      <td>43110</td>\n",
       "      <td>No ratings yet</td>\n",
       "      <td>True</td>\n",
       "      <td>Great atmosphere. The gunplay can be a bit chu...</td>\n",
       "    </tr>\n",
       "    <tr>\n",
       "      <th>3</th>\n",
       "      <td>js41637</td>\n",
       "      <td>http://steamcommunity.com/id/js41637</td>\n",
       "      <td></td>\n",
       "      <td>Posted June 24, 2014.</td>\n",
       "      <td></td>\n",
       "      <td>251610</td>\n",
       "      <td>15 of 20 people (75%) found this review helpful</td>\n",
       "      <td>True</td>\n",
       "      <td>I know what you think when you see this title ...</td>\n",
       "    </tr>\n",
       "    <tr>\n",
       "      <th>4</th>\n",
       "      <td>js41637</td>\n",
       "      <td>http://steamcommunity.com/id/js41637</td>\n",
       "      <td></td>\n",
       "      <td>Posted September 8, 2013.</td>\n",
       "      <td></td>\n",
       "      <td>227300</td>\n",
       "      <td>0 of 1 people (0%) found this review helpful</td>\n",
       "      <td>True</td>\n",
       "      <td>For a simple (it's actually not all that simpl...</td>\n",
       "    </tr>\n",
       "  </tbody>\n",
       "</table>\n",
       "</div>"
      ],
      "text/plain": [
       "             user_id                                           user_url funny  \\\n",
       "0  76561197970982479  http://steamcommunity.com/profiles/76561197970...         \n",
       "1  76561197970982479  http://steamcommunity.com/profiles/76561197970...         \n",
       "2  76561197970982479  http://steamcommunity.com/profiles/76561197970...         \n",
       "3            js41637               http://steamcommunity.com/id/js41637         \n",
       "4            js41637               http://steamcommunity.com/id/js41637         \n",
       "\n",
       "                      posted last_edited item_id  \\\n",
       "0   Posted November 5, 2011.                1250   \n",
       "1      Posted July 15, 2011.               22200   \n",
       "2     Posted April 21, 2011.               43110   \n",
       "3      Posted June 24, 2014.              251610   \n",
       "4  Posted September 8, 2013.              227300   \n",
       "\n",
       "                                           helpful  recommend  \\\n",
       "0                                   No ratings yet       True   \n",
       "1                                   No ratings yet       True   \n",
       "2                                   No ratings yet       True   \n",
       "3  15 of 20 people (75%) found this review helpful       True   \n",
       "4     0 of 1 people (0%) found this review helpful       True   \n",
       "\n",
       "                                              review  \n",
       "0  Simple yet with great replayability. In my opi...  \n",
       "1               It's unique and worth a playthrough.  \n",
       "2  Great atmosphere. The gunplay can be a bit chu...  \n",
       "3  I know what you think when you see this title ...  \n",
       "4  For a simple (it's actually not all that simpl...  "
      ]
     },
     "execution_count": 5,
     "metadata": {},
     "output_type": "execute_result"
    }
   ],
   "source": [
    "# Se Carga el archivo JSON reparado en un DataFrame\n",
    "nombre_archivo = 'australian_user_reviews_repair.json'\n",
    "with open(nombre_archivo, 'r', encoding='utf-8') as archivo:\n",
    "    DatosNuevos = json.load(archivo)\n",
    "\n",
    "# Se normalizan los datos y crea un DataFrame\n",
    "df = pd.json_normalize(DatosNuevos)\n",
    "# Se crea un nuevo DataFrame (df_UserReviews) con detalles de cada revisión, manteniendo las columnas 'user_id' y 'user_url'.\n",
    "df_UserReviews = pd.json_normalize(DatosNuevos, record_path=['reviews'], meta=['user_id', 'user_url'])\n",
    "\n",
    "# Se hace una lista con el orden deseado de las columnas\n",
    "column_order = ['user_id', 'user_url', 'funny', 'posted', 'last_edited', 'item_id', 'helpful', 'recommend', 'review']\n",
    "\n",
    "# Se reordena las columnas del DataFrame\n",
    "df_UserReviews = df_UserReviews[column_order]\n",
    "\n",
    "df_UserReviews.head()\n"
   ]
  },
  {
   "cell_type": "code",
   "execution_count": 6,
   "metadata": {},
   "outputs": [
    {
     "name": "stdout",
     "output_type": "stream",
     "text": [
      "<class 'pandas.core.frame.DataFrame'>\n",
      "RangeIndex: 59305 entries, 0 to 59304\n",
      "Data columns (total 9 columns):\n",
      " #   Column       Non-Null Count  Dtype \n",
      "---  ------       --------------  ----- \n",
      " 0   user_id      59305 non-null  object\n",
      " 1   user_url     59305 non-null  object\n",
      " 2   funny        59305 non-null  object\n",
      " 3   posted       59305 non-null  object\n",
      " 4   last_edited  59305 non-null  object\n",
      " 5   item_id      59305 non-null  object\n",
      " 6   helpful      59305 non-null  object\n",
      " 7   recommend    59305 non-null  bool  \n",
      " 8   review       59305 non-null  object\n",
      "dtypes: bool(1), object(8)\n",
      "memory usage: 3.7+ MB\n"
     ]
    }
   ],
   "source": [
    "# Se muestra un resumen de la información del DataFrame df_UserReviews\n",
    "df_UserReviews.info()"
   ]
  },
  {
   "cell_type": "code",
   "execution_count": 7,
   "metadata": {},
   "outputs": [
    {
     "name": "stdout",
     "output_type": "stream",
     "text": [
      "user_id        0\n",
      "user_url       0\n",
      "funny          0\n",
      "posted         0\n",
      "last_edited    0\n",
      "item_id        0\n",
      "helpful        0\n",
      "recommend      0\n",
      "review         0\n",
      "dtype: int64\n"
     ]
    }
   ],
   "source": [
    "#  SE LIMPIAN Y PREPROCESAN LOS DATOS\n",
    "# Se verifica cuántos valores nulos hay por columnas\n",
    "valores_nulos_por_columna = df_UserReviews.isnull().sum()\n",
    "\n",
    "# Se muestran los resultados\n",
    "print(valores_nulos_por_columna)\n",
    "\n",
    "# Se reemplazan valores vacíos, 'null' y 'None' con NaN en todo el DataFrame\n",
    "df_UserReviews.replace(['', 'null', 'None'], np.nan, inplace=True)"
   ]
  },
  {
   "cell_type": "code",
   "execution_count": 8,
   "metadata": {},
   "outputs": [
    {
     "name": "stdout",
     "output_type": "stream",
     "text": [
      "user_id            0\n",
      "user_url           0\n",
      "funny          51154\n",
      "posted             0\n",
      "last_edited    53165\n",
      "item_id            0\n",
      "helpful            0\n",
      "recommend          0\n",
      "review            30\n",
      "dtype: int64\n"
     ]
    }
   ],
   "source": [
    "# Se verifica cuántos valores nulos hay por columnas\n",
    "valores_nulos_por_columna = df_UserReviews.isnull().sum()\n",
    "\n",
    "# Se muestra los resultados\n",
    "print(valores_nulos_por_columna)"
   ]
  },
  {
   "cell_type": "code",
   "execution_count": 9,
   "metadata": {},
   "outputs": [
    {
     "data": {
      "text/html": [
       "<div>\n",
       "<style scoped>\n",
       "    .dataframe tbody tr th:only-of-type {\n",
       "        vertical-align: middle;\n",
       "    }\n",
       "\n",
       "    .dataframe tbody tr th {\n",
       "        vertical-align: top;\n",
       "    }\n",
       "\n",
       "    .dataframe thead th {\n",
       "        text-align: right;\n",
       "    }\n",
       "</style>\n",
       "<table border=\"1\" class=\"dataframe\">\n",
       "  <thead>\n",
       "    <tr style=\"text-align: right;\">\n",
       "      <th></th>\n",
       "      <th>user_id</th>\n",
       "      <th>user_url</th>\n",
       "      <th>funny</th>\n",
       "      <th>posted</th>\n",
       "      <th>last_edited</th>\n",
       "      <th>item_id</th>\n",
       "      <th>helpful</th>\n",
       "      <th>recommend</th>\n",
       "      <th>review</th>\n",
       "    </tr>\n",
       "  </thead>\n",
       "  <tbody>\n",
       "  </tbody>\n",
       "</table>\n",
       "</div>"
      ],
      "text/plain": [
       "Empty DataFrame\n",
       "Columns: [user_id, user_url, funny, posted, last_edited, item_id, helpful, recommend, review]\n",
       "Index: []"
      ]
     },
     "execution_count": 9,
     "metadata": {},
     "output_type": "execute_result"
    }
   ],
   "source": [
    "# Filas donde todas las columnas especificadas tienen valores nulos.\n",
    "columnas_a_considerar = ['posted', 'recommend', 'review']\n",
    "filas_con_nulos = df_UserReviews[df_UserReviews[columnas_a_considerar].isnull().all(axis=1)]\n",
    "filas_con_nulos"
   ]
  },
  {
   "cell_type": "code",
   "execution_count": 10,
   "metadata": {},
   "outputs": [],
   "source": [
    "# Podemos ver que funny y last_edited tienen la mayoria de los datos nulos, por ende se\n",
    "# se procedera a eliminar esas columnas al igual que helpfull y user_url ya que no aportan\n",
    "# datos importantes a nuestro estudio.\n",
    "\n",
    "# Se eliminan las columnas 'helpful' y 'user_url' por considerarse no relevantes, y las columnas\n",
    "# 'funny' y 'last_edited' por tener la mayoria de datos faltantes\n",
    "df_UserReviews.drop(['helpful','user_url','funny','last_edited'], axis=1, inplace=True)"
   ]
  },
  {
   "cell_type": "code",
   "execution_count": 11,
   "metadata": {},
   "outputs": [
    {
     "data": {
      "text/plain": [
       "user_id      1734\n",
       "posted       1734\n",
       "item_id      1734\n",
       "recommend    1734\n",
       "review       1734\n",
       "dtype: int64"
      ]
     },
     "execution_count": 11,
     "metadata": {},
     "output_type": "execute_result"
    }
   ],
   "source": [
    "# Se buscan registros duplicados\n",
    "df_UserReviews.sort_values('user_id')\n",
    "duplicados = df_UserReviews[df_UserReviews.duplicated(subset=['user_id', 'item_id', 'posted', 'review'], keep=False)]\n",
    "duplicados.count()\n"
   ]
  },
  {
   "cell_type": "code",
   "execution_count": 12,
   "metadata": {},
   "outputs": [
    {
     "name": "stdout",
     "output_type": "stream",
     "text": [
      "Cantidad total de registros duplicados eliminados: 1734\n"
     ]
    }
   ],
   "source": [
    "\n",
    "# Se eliminan los registros duplicados basándome en múltiples columnas \n",
    "df_UserReviews.drop_duplicates(subset=['user_id', 'item_id', 'posted', 'review'], keep=False, inplace=True)\n",
    "\n",
    "cantidad_total_duplicados_eliminados = duplicados.shape[0]\n",
    "\n",
    "print(\"Cantidad total de registros duplicados eliminados:\", cantidad_total_duplicados_eliminados)"
   ]
  },
  {
   "cell_type": "code",
   "execution_count": 13,
   "metadata": {},
   "outputs": [
    {
     "name": "stdout",
     "output_type": "stream",
     "text": [
      "Nulos después de la conversión a datetime:\n",
      "9755\n"
     ]
    }
   ],
   "source": [
    "# Se convierte 'posted' a tipo datetime\n",
    "df_UserReviews['posted'] = pd.to_datetime(df_UserReviews['posted'].astype(str).str.replace(r'Posted |,|\\.', '', regex=True), errors='coerce')\n",
    "\n",
    "# Se crea la columna 'year' a partir de 'posted'\n",
    "df_UserReviews['year'] = df_UserReviews['posted'].dt.year.astype('Int64')\n",
    "\n",
    "# Se ordena el DataFrame por 'item_id' y 'year' para asegurar que la interpolación se haga correctamente\n",
    "df_UserReviews = df_UserReviews.sort_values(['item_id', 'year'])\n",
    "\n",
    "# Se imprime información sobre nulos en 'year' después de la conversión\n",
    "print(\"Nulos después de la conversión a datetime:\")\n",
    "print(df_UserReviews['year'].isnull().sum())"
   ]
  },
  {
   "cell_type": "code",
   "execution_count": 14,
   "metadata": {},
   "outputs": [
    {
     "name": "stdout",
     "output_type": "stream",
     "text": [
      "Tipo de dato de 'posted': datetime64[ns]\n"
     ]
    }
   ],
   "source": [
    "tipo_dato_posted = df_UserReviews['posted'].dtype\n",
    "\n",
    "print(\"Tipo de dato de 'posted':\", tipo_dato_posted)"
   ]
  },
  {
   "cell_type": "code",
   "execution_count": 15,
   "metadata": {},
   "outputs": [
    {
     "name": "stderr",
     "output_type": "stream",
     "text": [
      "C:\\Users\\Mati Barna\\AppData\\Local\\Temp\\ipykernel_10364\\496998528.py:2: FutureWarning: Series.interpolate with method=pad is deprecated and will raise in a future version. Use obj.ffill() or obj.bfill() instead.\n",
      "  df_UserReviews['year'] = df_UserReviews.groupby('item_id', group_keys=False)['year'].apply(lambda group: group.interpolate(method='pad') if group.notna().any() else group)\n"
     ]
    },
    {
     "name": "stdout",
     "output_type": "stream",
     "text": [
      "Hay valores nulos en la columna 'year'.\n"
     ]
    }
   ],
   "source": [
    "# Rellenamos valores nulos en 'year' mediante interpolación lineal por grupo (item_id)\n",
    "df_UserReviews['year'] = df_UserReviews.groupby('item_id', group_keys=False)['year'].apply(lambda group: group.interpolate(method='pad') if group.notna().any() else group)\n",
    "\n",
    "# Verificamos si hay valores nulos en la columna 'year'\n",
    "hay_nulos_en_year = df_UserReviews['year'].isnull().any()\n",
    "\n",
    "if hay_nulos_en_year:\n",
    "    print(\"Hay valores nulos en la columna 'year'.\")\n",
    "else:\n",
    "    print(\"No hay valores nulos en la columna 'year'.\")\n"
   ]
  },
  {
   "cell_type": "code",
   "execution_count": 16,
   "metadata": {},
   "outputs": [],
   "source": [
    "# Aún hay valores nulos después de la interpolación, se llenan con la mediana. \n",
    "df_UserReviews['year'] = df_UserReviews['year'].fillna(df_UserReviews['year'].median())"
   ]
  },
  {
   "cell_type": "code",
   "execution_count": 17,
   "metadata": {},
   "outputs": [
    {
     "name": "stdout",
     "output_type": "stream",
     "text": [
      "No hay valores nulos en la columna 'year'.\n"
     ]
    }
   ],
   "source": [
    "# Volvemos a verificar si hay valores nulos en la columna 'year'\n",
    "hay_nulos_en_year = df_UserReviews['year'].isnull().any()\n",
    "\n",
    "if hay_nulos_en_year:\n",
    "    print(\"Hay valores nulos en la columna 'year'.\")\n",
    "else:\n",
    "    print(\"No hay valores nulos en la columna 'year'.\")"
   ]
  },
  {
   "cell_type": "code",
   "execution_count": 18,
   "metadata": {},
   "outputs": [
    {
     "data": {
      "text/html": [
       "<div>\n",
       "<style scoped>\n",
       "    .dataframe tbody tr th:only-of-type {\n",
       "        vertical-align: middle;\n",
       "    }\n",
       "\n",
       "    .dataframe tbody tr th {\n",
       "        vertical-align: top;\n",
       "    }\n",
       "\n",
       "    .dataframe thead th {\n",
       "        text-align: right;\n",
       "    }\n",
       "</style>\n",
       "<table border=\"1\" class=\"dataframe\">\n",
       "  <thead>\n",
       "    <tr style=\"text-align: right;\">\n",
       "      <th></th>\n",
       "      <th>item_id</th>\n",
       "      <th>recommend</th>\n",
       "      <th>review</th>\n",
       "      <th>year</th>\n",
       "    </tr>\n",
       "  </thead>\n",
       "  <tbody>\n",
       "    <tr>\n",
       "      <th>5331</th>\n",
       "      <td>10</td>\n",
       "      <td>True</td>\n",
       "      <td>this game is the 1# online action game is awes...</td>\n",
       "      <td>2011</td>\n",
       "    </tr>\n",
       "    <tr>\n",
       "      <th>22702</th>\n",
       "      <td>10</td>\n",
       "      <td>True</td>\n",
       "      <td>GYERTEK GAMELNI MINDENKI ITT VAN AKI SZÁMIT !!...</td>\n",
       "      <td>2012</td>\n",
       "    </tr>\n",
       "    <tr>\n",
       "      <th>35539</th>\n",
       "      <td>10</td>\n",
       "      <td>True</td>\n",
       "      <td>:D</td>\n",
       "      <td>2012</td>\n",
       "    </tr>\n",
       "    <tr>\n",
       "      <th>43134</th>\n",
       "      <td>10</td>\n",
       "      <td>True</td>\n",
       "      <td>Good Game :D</td>\n",
       "      <td>2012</td>\n",
       "    </tr>\n",
       "    <tr>\n",
       "      <th>24137</th>\n",
       "      <td>10</td>\n",
       "      <td>True</td>\n",
       "      <td>jueguenlooooooo</td>\n",
       "      <td>2013</td>\n",
       "    </tr>\n",
       "  </tbody>\n",
       "</table>\n",
       "</div>"
      ],
      "text/plain": [
       "      item_id  recommend                                             review  \\\n",
       "5331       10       True  this game is the 1# online action game is awes...   \n",
       "22702      10       True  GYERTEK GAMELNI MINDENKI ITT VAN AKI SZÁMIT !!...   \n",
       "35539      10       True                                                 :D   \n",
       "43134      10       True                                       Good Game :D   \n",
       "24137      10       True                                    jueguenlooooooo   \n",
       "\n",
       "       year  \n",
       "5331   2011  \n",
       "22702  2012  \n",
       "35539  2012  \n",
       "43134  2012  \n",
       "24137  2013  "
      ]
     },
     "execution_count": 18,
     "metadata": {},
     "output_type": "execute_result"
    }
   ],
   "source": [
    "# Se eliminan las columnas 'posted' y 'user_id' que ya no son de utilidad\n",
    "df_UserReviews.drop(['posted', 'user_id'], axis=1, inplace=True)\n",
    "df_UserReviews.head()"
   ]
  },
  {
   "cell_type": "code",
   "execution_count": 19,
   "metadata": {},
   "outputs": [
    {
     "data": {
      "text/html": [
       "<div>\n",
       "<style scoped>\n",
       "    .dataframe tbody tr th:only-of-type {\n",
       "        vertical-align: middle;\n",
       "    }\n",
       "\n",
       "    .dataframe tbody tr th {\n",
       "        vertical-align: top;\n",
       "    }\n",
       "\n",
       "    .dataframe thead th {\n",
       "        text-align: right;\n",
       "    }\n",
       "</style>\n",
       "<table border=\"1\" class=\"dataframe\">\n",
       "  <thead>\n",
       "    <tr style=\"text-align: right;\">\n",
       "      <th></th>\n",
       "      <th>Conteo</th>\n",
       "      <th>Porcentaje</th>\n",
       "    </tr>\n",
       "    <tr>\n",
       "      <th>language</th>\n",
       "      <th></th>\n",
       "      <th></th>\n",
       "    </tr>\n",
       "  </thead>\n",
       "  <tbody>\n",
       "    <tr>\n",
       "      <th>en</th>\n",
       "      <td>44409</td>\n",
       "      <td>77.89%</td>\n",
       "    </tr>\n",
       "    <tr>\n",
       "      <th>pt</th>\n",
       "      <td>2118</td>\n",
       "      <td>3.71%</td>\n",
       "    </tr>\n",
       "    <tr>\n",
       "      <th>es</th>\n",
       "      <td>1245</td>\n",
       "      <td>2.18%</td>\n",
       "    </tr>\n",
       "    <tr>\n",
       "      <th>de</th>\n",
       "      <td>1125</td>\n",
       "      <td>1.97%</td>\n",
       "    </tr>\n",
       "    <tr>\n",
       "      <th>so</th>\n",
       "      <td>995</td>\n",
       "      <td>1.75%</td>\n",
       "    </tr>\n",
       "  </tbody>\n",
       "</table>\n",
       "</div>"
      ],
      "text/plain": [
       "          Conteo Porcentaje\n",
       "language                   \n",
       "en         44409     77.89%\n",
       "pt          2118      3.71%\n",
       "es          1245      2.18%\n",
       "de          1125      1.97%\n",
       "so           995      1.75%"
      ]
     },
     "execution_count": 19,
     "metadata": {},
     "output_type": "execute_result"
    }
   ],
   "source": [
    "# Análisis de texto para determinar el idioma de las reseñas\n",
    "def detectar_idioma(texto):\n",
    "    try:\n",
    "       return detect(texto)\n",
    "    except:\n",
    "        return None\n",
    "\n",
    "# Se crea una nueva columna 'idioma', aplicando la funcion a la columna 'review'    \n",
    "df_UserReviews['language']=df_UserReviews['review'].apply(detectar_idioma)\n",
    "\n",
    "# Se calcula el conteo y porcentaje de cada idioma\n",
    "conteo_por_idioma = df_UserReviews['language'].value_counts()\n",
    "porcentaje_por_idioma = df_UserReviews['language'].value_counts(normalize=True) * 100\n",
    "\n",
    "# Se crea un nuevo DataFrame con el conteo y porcentaje\n",
    "conteo_porcentaje_idiomas = pd.DataFrame({\n",
    "    'Conteo': conteo_por_idioma,\n",
    "    'Porcentaje': porcentaje_por_idioma.round(2).astype(str) + '%'\n",
    "})\n",
    "\n",
    "# Se ordena el dataframe por el conteo de mayor a menor  \n",
    "conteo_porcentaje_idiomas=conteo_porcentaje_idiomas.sort_values(by='Conteo',ascending=False)\n",
    "conteo_porcentaje_idiomas.head()\n",
    "\n"
   ]
  },
  {
   "cell_type": "code",
   "execution_count": 20,
   "metadata": {},
   "outputs": [
    {
     "data": {
      "text/html": [
       "<div>\n",
       "<style scoped>\n",
       "    .dataframe tbody tr th:only-of-type {\n",
       "        vertical-align: middle;\n",
       "    }\n",
       "\n",
       "    .dataframe tbody tr th {\n",
       "        vertical-align: top;\n",
       "    }\n",
       "\n",
       "    .dataframe thead th {\n",
       "        text-align: right;\n",
       "    }\n",
       "</style>\n",
       "<table border=\"1\" class=\"dataframe\">\n",
       "  <thead>\n",
       "    <tr style=\"text-align: right;\">\n",
       "      <th></th>\n",
       "      <th>Idioma</th>\n",
       "      <th>Conteo</th>\n",
       "      <th>Porcentaje</th>\n",
       "    </tr>\n",
       "  </thead>\n",
       "  <tbody>\n",
       "    <tr>\n",
       "      <th>0</th>\n",
       "      <td>Inglés</td>\n",
       "      <td>44409</td>\n",
       "      <td>77.14</td>\n",
       "    </tr>\n",
       "    <tr>\n",
       "      <th>1</th>\n",
       "      <td>Portugués</td>\n",
       "      <td>2118</td>\n",
       "      <td>3.68</td>\n",
       "    </tr>\n",
       "    <tr>\n",
       "      <th>2</th>\n",
       "      <td>Español</td>\n",
       "      <td>1245</td>\n",
       "      <td>2.16</td>\n",
       "    </tr>\n",
       "    <tr>\n",
       "      <th>3</th>\n",
       "      <td>Alemán</td>\n",
       "      <td>1125</td>\n",
       "      <td>1.95</td>\n",
       "    </tr>\n",
       "    <tr>\n",
       "      <th>4</th>\n",
       "      <td>Somalí</td>\n",
       "      <td>995</td>\n",
       "      <td>1.73</td>\n",
       "    </tr>\n",
       "  </tbody>\n",
       "</table>\n",
       "</div>"
      ],
      "text/plain": [
       "      Idioma  Conteo  Porcentaje\n",
       "0     Inglés   44409       77.14\n",
       "1  Portugués    2118        3.68\n",
       "2    Español    1245        2.16\n",
       "3     Alemán    1125        1.95\n",
       "4     Somalí     995        1.73"
      ]
     },
     "execution_count": 20,
     "metadata": {},
     "output_type": "execute_result"
    }
   ],
   "source": [
    "# Mapeo de códigos de idioma a nombres completos para el análisis de idiomas (top 5)\n",
    "nombres_completos={\n",
    "    'en': 'Inglés',\n",
    "    'pt': 'Portugués',\n",
    "    'es': 'Español',\n",
    "    'de': 'Alemán',\n",
    "    'so': 'Somalí',\n",
    "}\n",
    "\n",
    "# Se aplica el mapeo al DataFrame\n",
    "df_UserReviews['idioma_completo'] = df_UserReviews['language'].map(nombres_completos)\n",
    "\n",
    "# Se crea un DataFrame con el resumen de idiomas\n",
    "idiomas_top5 = df_UserReviews['idioma_completo'].value_counts().reset_index()\n",
    "idiomas_top5.columns = ['Idioma', 'Conteo']\n",
    "idiomas_top5['Conteo'] = idiomas_top5['Conteo'].round(2)\n",
    "\n",
    "# Se calcula el porcentaje\n",
    "idiomas_top5['Porcentaje'] = (idiomas_top5['Conteo'] / len(df_UserReviews)) * 100 \n",
    "idiomas_top5['Porcentaje'] = idiomas_top5['Porcentaje'].round(2)\n",
    "idiomas_top5.head()"
   ]
  },
  {
   "cell_type": "code",
   "execution_count": 21,
   "metadata": {},
   "outputs": [],
   "source": [
    "# Se selecciona las filas donde el idioma es 'ingles'\n",
    "df_UserReviews = df_UserReviews.query(\"idioma_completo == 'Inglés'\")\n",
    "\n",
    "# Se borra la columna 'idioma_completo'\n",
    "df_UserReviews = df_UserReviews.drop('idioma_completo', axis=1)"
   ]
  },
  {
   "cell_type": "code",
   "execution_count": 22,
   "metadata": {},
   "outputs": [],
   "source": [
    "# Se convierten todas las letras a minúsculas para asegurar que todas las palabras sean tratadas de la misma manera.\n",
    "df_UserReviews.loc[:, 'review'] = df_UserReviews['review'].str.lower()\n",
    "\n",
    "# Eliminación de caracteres especiales(excepto Alfanuméricos y Espacios)\n",
    "df_UserReviews.loc[:,'review'] = df_UserReviews['review'].replace('[^A-Za-z0-9\\s]+', '', regex=True)\n",
    "\n",
    "# Se elimina caracteres de puntuación que no aportan al análisis de sentimiento.\n",
    "df_UserReviews.loc[:, 'review'] = df_UserReviews['review'].str.replace('[^\\w\\s]', '', regex=True)"
   ]
  },
  {
   "cell_type": "code",
   "execution_count": 23,
   "metadata": {},
   "outputs": [
    {
     "data": {
      "text/html": [
       "<div>\n",
       "<style scoped>\n",
       "    .dataframe tbody tr th:only-of-type {\n",
       "        vertical-align: middle;\n",
       "    }\n",
       "\n",
       "    .dataframe tbody tr th {\n",
       "        vertical-align: top;\n",
       "    }\n",
       "\n",
       "    .dataframe thead th {\n",
       "        text-align: right;\n",
       "    }\n",
       "</style>\n",
       "<table border=\"1\" class=\"dataframe\">\n",
       "  <thead>\n",
       "    <tr style=\"text-align: right;\">\n",
       "      <th></th>\n",
       "      <th>item_id</th>\n",
       "      <th>recommend</th>\n",
       "      <th>review</th>\n",
       "      <th>year</th>\n",
       "      <th>language</th>\n",
       "    </tr>\n",
       "  </thead>\n",
       "  <tbody>\n",
       "    <tr>\n",
       "      <th>5331</th>\n",
       "      <td>10</td>\n",
       "      <td>True</td>\n",
       "      <td>this game is the 1 online action game is aweso...</td>\n",
       "      <td>2011</td>\n",
       "      <td>en</td>\n",
       "    </tr>\n",
       "    <tr>\n",
       "      <th>45506</th>\n",
       "      <td>10</td>\n",
       "      <td>True</td>\n",
       "      <td>the og to csgo</td>\n",
       "      <td>2013</td>\n",
       "      <td>en</td>\n",
       "    </tr>\n",
       "    <tr>\n",
       "      <th>7801</th>\n",
       "      <td>10</td>\n",
       "      <td>True</td>\n",
       "      <td>the best fps game</td>\n",
       "      <td>2014</td>\n",
       "      <td>en</td>\n",
       "    </tr>\n",
       "    <tr>\n",
       "      <th>7967</th>\n",
       "      <td>10</td>\n",
       "      <td>True</td>\n",
       "      <td>one of the best childhood games i have ever pl...</td>\n",
       "      <td>2014</td>\n",
       "      <td>en</td>\n",
       "    </tr>\n",
       "    <tr>\n",
       "      <th>8519</th>\n",
       "      <td>10</td>\n",
       "      <td>True</td>\n",
       "      <td>people still play this siq game</td>\n",
       "      <td>2014</td>\n",
       "      <td>en</td>\n",
       "    </tr>\n",
       "  </tbody>\n",
       "</table>\n",
       "</div>"
      ],
      "text/plain": [
       "      item_id  recommend                                             review  \\\n",
       "5331       10       True  this game is the 1 online action game is aweso...   \n",
       "45506      10       True                                     the og to csgo   \n",
       "7801       10       True                                  the best fps game   \n",
       "7967       10       True  one of the best childhood games i have ever pl...   \n",
       "8519       10       True                    people still play this siq game   \n",
       "\n",
       "       year language  \n",
       "5331   2011       en  \n",
       "45506  2013       en  \n",
       "7801   2014       en  \n",
       "7967   2014       en  \n",
       "8519   2014       en  "
      ]
     },
     "execution_count": 23,
     "metadata": {},
     "output_type": "execute_result"
    }
   ],
   "source": [
    "df_UserReviews.head()"
   ]
  },
  {
   "cell_type": "code",
   "execution_count": 24,
   "metadata": {},
   "outputs": [],
   "source": [
    "def analyze_sentiments(df):\n",
    "    \n",
    "    # Se instancia el analizador de sentimientos\n",
    "    sia = SentimentIntensityAnalyzer()\n",
    "\n",
    "    # Se aplica el análisis de sentimientos y asignar valores numéricos\n",
    "    df['compound_score'] = df['review'].apply(lambda review: sia.polarity_scores(review)['compound'])\n",
    "    df['sentiment_analysis'] = df['compound_score'].apply(lambda score: 0 if score < 0 else (1 if score == 0 else 2))\n",
    "\n",
    "    # Conteo de reviews por score\n",
    "    conteo_por_score = df['sentiment_analysis'].value_counts()\n",
    "\n",
    "    # Conteo de reviews en blanco\n",
    "    reviews_en_blanco = df['review'].isnull().sum()\n",
    "\n",
    "    # Total de reviews\n",
    "    total_reviews = len(df)\n",
    "\n",
    "    # Se calculan porcentajes\n",
    "    porcentaje_score = (conteo_por_score / total_reviews * 100).round(2)\n",
    "    porcentaje_reviews_vacias = (reviews_en_blanco / total_reviews * 100).round(2)\n",
    "     \n",
    "    # Se eliminan las columnas 'review' y 'compound_score', no necesitaremos estos datos\n",
    "    df.drop(['compound_score'], axis=1, inplace=True)  \n",
    "\n",
    "    return df, conteo_por_score, reviews_en_blanco, porcentaje_score, porcentaje_reviews_vacias\n",
    "\n"
   ]
  },
  {
   "cell_type": "code",
   "execution_count": 25,
   "metadata": {},
   "outputs": [
    {
     "name": "stdout",
     "output_type": "stream",
     "text": [
      "\n",
      "Análisis de sentimientos:\n",
      "                    Conteo Porcentaje\n",
      "sentiment_analysis                   \n",
      "2                    31461     70.84%\n",
      "0                     8273     18.63%\n",
      "1                     4675     10.53%\n",
      "\n",
      "Conteo de reviews en blanco:  0  Porcentaje:  0.0%\n"
     ]
    }
   ],
   "source": [
    "# Se llama a la función analyze_sentiments\n",
    "df_UserReviews, conteo_por_score, reviews_en_blanco, porcentaje_score, porcentaje_reviews_vacias = analyze_sentiments(df_UserReviews)\n",
    "\n",
    "# Se crea un nuevo DataFrame con el conteo y porcentaje\n",
    "sentimientos = pd.DataFrame({\n",
    "    'Conteo': conteo_por_score,\n",
    "    'Porcentaje': porcentaje_score.round(2).astype(str) + '%'\n",
    "})\n",
    "\n",
    "# Se ordena el DataFrame por el conteo de mayor a menor\n",
    "sentimientos = sentimientos.sort_values(by='Conteo', ascending=False)\n",
    "\n",
    "# Se imprimen los resultados\n",
    "print(\"\\nAnálisis de sentimientos:\")\n",
    "print(sentimientos)\n",
    "print(\"\\nConteo de reviews en blanco: \", reviews_en_blanco, \" Porcentaje: \", porcentaje_reviews_vacias.round(2).astype(str) + '%')\n"
   ]
  },
  {
   "cell_type": "code",
   "execution_count": 26,
   "metadata": {},
   "outputs": [
    {
     "data": {
      "text/html": [
       "<div>\n",
       "<style scoped>\n",
       "    .dataframe tbody tr th:only-of-type {\n",
       "        vertical-align: middle;\n",
       "    }\n",
       "\n",
       "    .dataframe tbody tr th {\n",
       "        vertical-align: top;\n",
       "    }\n",
       "\n",
       "    .dataframe thead th {\n",
       "        text-align: right;\n",
       "    }\n",
       "</style>\n",
       "<table border=\"1\" class=\"dataframe\">\n",
       "  <thead>\n",
       "    <tr style=\"text-align: right;\">\n",
       "      <th></th>\n",
       "      <th>item_id</th>\n",
       "      <th>recommend</th>\n",
       "      <th>review</th>\n",
       "      <th>year</th>\n",
       "      <th>sentiment_analysis</th>\n",
       "    </tr>\n",
       "  </thead>\n",
       "  <tbody>\n",
       "    <tr>\n",
       "      <th>5331</th>\n",
       "      <td>10</td>\n",
       "      <td>True</td>\n",
       "      <td>this game is the 1 online action game is aweso...</td>\n",
       "      <td>2011</td>\n",
       "      <td>2</td>\n",
       "    </tr>\n",
       "    <tr>\n",
       "      <th>45506</th>\n",
       "      <td>10</td>\n",
       "      <td>True</td>\n",
       "      <td>the og to csgo</td>\n",
       "      <td>2013</td>\n",
       "      <td>1</td>\n",
       "    </tr>\n",
       "    <tr>\n",
       "      <th>7801</th>\n",
       "      <td>10</td>\n",
       "      <td>True</td>\n",
       "      <td>the best fps game</td>\n",
       "      <td>2014</td>\n",
       "      <td>2</td>\n",
       "    </tr>\n",
       "    <tr>\n",
       "      <th>7967</th>\n",
       "      <td>10</td>\n",
       "      <td>True</td>\n",
       "      <td>one of the best childhood games i have ever pl...</td>\n",
       "      <td>2014</td>\n",
       "      <td>2</td>\n",
       "    </tr>\n",
       "    <tr>\n",
       "      <th>8519</th>\n",
       "      <td>10</td>\n",
       "      <td>True</td>\n",
       "      <td>people still play this siq game</td>\n",
       "      <td>2014</td>\n",
       "      <td>2</td>\n",
       "    </tr>\n",
       "    <tr>\n",
       "      <th>...</th>\n",
       "      <td>...</td>\n",
       "      <td>...</td>\n",
       "      <td>...</td>\n",
       "      <td>...</td>\n",
       "      <td>...</td>\n",
       "    </tr>\n",
       "    <tr>\n",
       "      <th>51725</th>\n",
       "      <td>99900</td>\n",
       "      <td>True</td>\n",
       "      <td>a fun free to play game at first but eventuall...</td>\n",
       "      <td>2015</td>\n",
       "      <td>2</td>\n",
       "    </tr>\n",
       "    <tr>\n",
       "      <th>53065</th>\n",
       "      <td>99900</td>\n",
       "      <td>False</td>\n",
       "      <td>elite orbs are more rarer than good presidenti...</td>\n",
       "      <td>2015</td>\n",
       "      <td>2</td>\n",
       "    </tr>\n",
       "    <tr>\n",
       "      <th>12393</th>\n",
       "      <td>99910</td>\n",
       "      <td>True</td>\n",
       "      <td>looks like a cute childrens game but has more ...</td>\n",
       "      <td>2011</td>\n",
       "      <td>2</td>\n",
       "    </tr>\n",
       "    <tr>\n",
       "      <th>53052</th>\n",
       "      <td>99910</td>\n",
       "      <td>False</td>\n",
       "      <td>110 just a bad game overall dead boring dead s...</td>\n",
       "      <td>2014</td>\n",
       "      <td>0</td>\n",
       "    </tr>\n",
       "    <tr>\n",
       "      <th>32632</th>\n",
       "      <td>99910</td>\n",
       "      <td>True</td>\n",
       "      <td>this is a highly strategic puzzle game it has ...</td>\n",
       "      <td>2015</td>\n",
       "      <td>2</td>\n",
       "    </tr>\n",
       "  </tbody>\n",
       "</table>\n",
       "<p>44409 rows × 5 columns</p>\n",
       "</div>"
      ],
      "text/plain": [
       "      item_id  recommend                                             review  \\\n",
       "5331       10       True  this game is the 1 online action game is aweso...   \n",
       "45506      10       True                                     the og to csgo   \n",
       "7801       10       True                                  the best fps game   \n",
       "7967       10       True  one of the best childhood games i have ever pl...   \n",
       "8519       10       True                    people still play this siq game   \n",
       "...       ...        ...                                                ...   \n",
       "51725   99900       True  a fun free to play game at first but eventuall...   \n",
       "53065   99900      False  elite orbs are more rarer than good presidenti...   \n",
       "12393   99910       True  looks like a cute childrens game but has more ...   \n",
       "53052   99910      False  110 just a bad game overall dead boring dead s...   \n",
       "32632   99910       True  this is a highly strategic puzzle game it has ...   \n",
       "\n",
       "       year  sentiment_analysis  \n",
       "5331   2011                   2  \n",
       "45506  2013                   1  \n",
       "7801   2014                   2  \n",
       "7967   2014                   2  \n",
       "8519   2014                   2  \n",
       "...     ...                 ...  \n",
       "51725  2015                   2  \n",
       "53065  2015                   2  \n",
       "12393  2011                   2  \n",
       "53052  2014                   0  \n",
       "32632  2015                   2  \n",
       "\n",
       "[44409 rows x 5 columns]"
      ]
     },
     "execution_count": 26,
     "metadata": {},
     "output_type": "execute_result"
    }
   ],
   "source": [
    "# Se borra la columna 'language'\n",
    "df_UserReviews = df_UserReviews.drop('language', axis=1)\n",
    "df_UserReviews"
   ]
  },
  {
   "cell_type": "code",
   "execution_count": 27,
   "metadata": {},
   "outputs": [],
   "source": [
    "# SE GUARDA EL ARCHIVO LIMPIO\n",
    "\n",
    "# El archivos se almacenan en local \n",
    "df_UserReviews.to_csv('user_reviews_cleaned.csv', index=False)"
   ]
  },
  {
   "cell_type": "code",
   "execution_count": 28,
   "metadata": {},
   "outputs": [
    {
     "name": "stdout",
     "output_type": "stream",
     "text": [
      "<class 'pandas.core.frame.DataFrame'>\n",
      "Index: 44409 entries, 5331 to 32632\n",
      "Data columns (total 5 columns):\n",
      " #   Column              Non-Null Count  Dtype \n",
      "---  ------              --------------  ----- \n",
      " 0   item_id             44409 non-null  object\n",
      " 1   recommend           44409 non-null  bool  \n",
      " 2   review              44409 non-null  object\n",
      " 3   year                44409 non-null  Int64 \n",
      " 4   sentiment_analysis  44409 non-null  int64 \n",
      "dtypes: Int64(1), bool(1), int64(1), object(2)\n",
      "memory usage: 1.8+ MB\n"
     ]
    }
   ],
   "source": [
    "df_UserReviews.info()"
   ]
  }
 ],
 "metadata": {
  "kernelspec": {
   "display_name": "Python 3",
   "language": "python",
   "name": "python3"
  },
  "language_info": {
   "codemirror_mode": {
    "name": "ipython",
    "version": 3
   },
   "file_extension": ".py",
   "mimetype": "text/x-python",
   "name": "python",
   "nbconvert_exporter": "python",
   "pygments_lexer": "ipython3",
   "version": "3.10.11"
  },
  "orig_nbformat": 4,
  "vscode": {
   "interpreter": {
    "hash": "d7514066a4d7325c4286872ce37e90444efca390fae243deee8bc6d6d3ba2622"
   }
  }
 },
 "nbformat": 4,
 "nbformat_minor": 2
}
