{
 "cells": [
  {
   "cell_type": "code",
   "execution_count": 1,
   "metadata": {},
   "outputs": [],
   "source": [
    "import pandas as pd\n",
    "\n",
    "\n",
    "# Rutas de los archivos CSV\n",
    "user_reviews_csv_path = \"user_reviews_cleaned.csv\"\n",
    "\n",
    "# Leer archivos CSV y convertir a Parquet\n",
    "df_UserReviews = pd.read_csv(user_reviews_csv_path)\n",
    "df_UserReviews.to_parquet(\"C:/Users/Mati Barna/Desktop/Data science/Henry DS PI 1 FastAPI/df_UserReviews.parquet\", index=False)\n",
    "\n"
   ]
  },
  {
   "cell_type": "code",
   "execution_count": 2,
   "metadata": {},
   "outputs": [
    {
     "name": "stdout",
     "output_type": "stream",
     "text": [
      "['item_id', 'recommend', 'review', 'year', 'sentiment_analysis']\n"
     ]
    }
   ],
   "source": [
    "import pyarrow.parquet as pq\n",
    "\n",
    "# Especifica la ruta al archivo Parquet\n",
    "archivo_parquet = \"C:/Users/Mati Barna/Desktop/Data science/Henry DS PI 1 FastAPI/df_UserReviews.parquet\"\n",
    "\n",
    "# Carga el archivo Parquet\n",
    "tabla_parquet = pq.read_table(archivo_parquet)\n",
    "\n",
    "# Muestra las columnas de la tabla\n",
    "print(tabla_parquet.column_names)"
   ]
  }
 ],
 "metadata": {
  "kernelspec": {
   "display_name": "Python 3",
   "language": "python",
   "name": "python3"
  },
  "language_info": {
   "codemirror_mode": {
    "name": "ipython",
    "version": 3
   },
   "file_extension": ".py",
   "mimetype": "text/x-python",
   "name": "python",
   "nbconvert_exporter": "python",
   "pygments_lexer": "ipython3",
   "version": "3.10.11"
  },
  "orig_nbformat": 4,
  "vscode": {
   "interpreter": {
    "hash": "d7514066a4d7325c4286872ce37e90444efca390fae243deee8bc6d6d3ba2622"
   }
  }
 },
 "nbformat": 4,
 "nbformat_minor": 2
}
