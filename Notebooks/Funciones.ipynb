{
 "cells": [
  {
   "cell_type": "code",
   "execution_count": 1,
   "metadata": {},
   "outputs": [],
   "source": [
    "import pandas as pd\n"
   ]
  },
  {
   "cell_type": "code",
   "execution_count": 2,
   "metadata": {},
   "outputs": [],
   "source": [
    "df_UserItems=pd.read_csv('user_items_cleaned.csv')\n",
    "df_SteamGames=pd.read_csv('steam_games_cleaned.csv')\n",
    "df_UserReviews=pd.read_csv('user_reviews_cleaned.csv')"
   ]
  },
  {
   "cell_type": "code",
   "execution_count": 6,
   "metadata": {},
   "outputs": [
    {
     "name": "stdout",
     "output_type": "stream",
     "text": [
      "{'Año de lanzamiento con más horas jugadas para Indie: 2006'}\n"
     ]
    }
   ],
   "source": [
    "\n",
    "def PlayTimeGenre(genero):\n",
    "    # Se filtra el DataFrame original para obtener solo las columnas relevantes\n",
    "    game_columns = ['item_id', 'name', 'year', 'Indie', 'Action', 'Casual', 'Adventure', 'Strategy',\n",
    "                    'Simulation', 'RPG', 'Free to Play', 'Early Access', 'Sports',\n",
    "                    'Massively Multiplayer', 'Racing', 'Design &amp; Illustration', 'Utilities']\n",
    "\n",
    "    # Se crea un nuevo DataFrame llamado df_games que contiene solo las columnas especificadas en game_columns.\n",
    "    df_games = df_SteamGames[game_columns]\n",
    "\n",
    "    # Se hace un join entre df_games y df_UserItems utilizando 'item_id' como clave\n",
    "    df_joined = pd.merge(df_games, df_UserItems[['item_id', 'playtime_forever']], on='item_id', how='inner')\n",
    "\n",
    "    # Se filtra el DataFrame resultante para el género específico\n",
    "    genre_df = df_joined[df_joined[genero] == 1]\n",
    "\n",
    "    # Se calcula la suma de horas jugadas por año y se determina el año con más horas jugadas\n",
    "    total_hours_by_year = genre_df.groupby('year')['playtime_forever'].sum()\n",
    "    max_year = total_hours_by_year.idxmax()\n",
    "\n",
    "    # Se retorna el resultado en un formato específico\n",
    "    result = {\"Año de lanzamiento con más horas jugadas para Genero {}: {}\".format(genero, max_year)}\n",
    "    return result\n",
    "\n"
   ]
  },
  {
   "cell_type": "code",
   "execution_count": 8,
   "metadata": {},
   "outputs": [
    {
     "name": "stdout",
     "output_type": "stream",
     "text": [
      "{'Año de lanzamiento con más horas jugadas para Casual: 2013'}\n"
     ]
    }
   ],
   "source": [
    "# Ejemplo de uso:\n",
    "genero_a_buscar = 'Casual'  \n",
    "resultado = PlayTimeGenre(genero_a_buscar)\n",
    "print(resultado)"
   ]
  },
  {
   "cell_type": "code",
   "execution_count": 20,
   "metadata": {},
   "outputs": [],
   "source": [
    "def UserForGenre(genero):\n",
    "    # Se filtra el DataFrame original para obtener solo las columnas relevantes\n",
    "    game_columns = ['item_id', 'name', 'year', 'Indie', 'Action', 'Casual', 'Adventure', 'Strategy',\n",
    "                    'Simulation', 'RPG', 'Free to Play', 'Early Access', 'Sports',\n",
    "                    'Massively Multiplayer', 'Racing', 'Design &amp; Illustration', 'Utilities']\n",
    "    \n",
    "    # Se crea un nuevo DataFrame llamado df_games que contiene solo las columnas especificadas en game_columns.\n",
    "    df_games = df_SteamGames[game_columns]\n",
    "    \n",
    "    # Se hace un join entre df_games y df_UserItems utilizando 'item_id' como clave\n",
    "    df_joined = pd.merge(df_games, df_UserItems[['item_id', 'playtime_forever','user_id']], on='item_id', how='inner')\n",
    "\n",
    "    # Se filtra el DataFrame resultante para el género específico\n",
    "    genre_df = df_joined[df_joined[genero] == 1]\n",
    "\n",
    "    # Se agrupa por usuario y año, sumamos las horas jugadas y se encuentra el usuario con más horas jugadas para el género dado\n",
    "    total_hours_by_user_and_year = genre_df.groupby(['user_id', 'year'])['playtime_forever'].sum()\n",
    "    max_user = total_hours_by_user_and_year.groupby('user_id').sum().idxmax()\n",
    "\n",
    "\n",
    "    # Se obtiene la lista de acumulación de horas jugadas por año para el usuario con más horas jugadas\n",
    "    max_user_hours_by_year = total_hours_by_user_and_year.loc[max_user].reset_index()\n",
    "    max_user_hours_list = [{\"Año\": int(row['year']), \"Horas\": row['playtime_forever']} for _, row in max_user_hours_by_year.iterrows()]\n",
    "\n",
    "    # Se retorna el resultado en un formato específico\n",
    "    result = {\"Usuario con más horas jugadas para Género {}\".format(genero): max_user, \"Horas jugadas\": max_user_hours_list}\n",
    "    return result\n"
   ]
  },
  {
   "cell_type": "code",
   "execution_count": 21,
   "metadata": {},
   "outputs": [
    {
     "name": "stdout",
     "output_type": "stream",
     "text": [
      "{'Usuario con más horas jugadas para Género Casual': 'REBAS_AS_F-T', 'Horas jugadas': [{'Año': 2001, 'Horas': 0.18}, {'Año': 2007, 'Horas': 7.1}, {'Año': 2008, 'Horas': 22.5}, {'Año': 2009, 'Horas': 124.79}, {'Año': 2010, 'Horas': 845.0699999999999}, {'Año': 2011, 'Horas': 691.41}, {'Año': 2012, 'Horas': 1278.84}, {'Año': 2013, 'Horas': 655.63}, {'Año': 2014, 'Horas': 1527.92}, {'Año': 2015, 'Horas': 4094.92}, {'Año': 2016, 'Horas': 5627.18}, {'Año': 2017, 'Horas': 38.67}]}\n"
     ]
    }
   ],
   "source": [
    "# Ejemplo de uso:\n",
    "genero_a_buscar = 'Casual'  \n",
    "resultado = UserForGenre(genero_a_buscar)\n",
    "print(resultado)"
   ]
  },
  {
   "cell_type": "code",
   "execution_count": 8,
   "metadata": {},
   "outputs": [],
   "source": [
    "def UsersRecommend(año):\n",
    "    \n",
    "    # Se filtra el DataFrame resultante para el año específico\n",
    "    reduce_df = df_UserReviews[(df_UserReviews['year'] == año) & \n",
    "                               (df_UserReviews['recommend'] == True) & \n",
    "                               (df_UserReviews['sentiment_analysis'].isin([1,2]))]\n",
    "    \n",
    "    # Se hace un join entre df_UserReviews y df_games utilizando 'item_id' como clave\n",
    "    merged_reviews = pd.merge(reduce_df, df_SteamGames[['item_id', 'name']], on='item_id', how='left')\n",
    "   \n",
    "    # Se calcula la frecuencia de cada juego\n",
    "    game_count= merged_reviews['name'].value_counts()\n",
    "\n",
    "    \n",
    "    # Se selecciona el top 3 de juegos más recomendados, estos estan ordenados de mayor a menor por el value_counts\n",
    "    top_3_games = game_count.head(3)\n",
    "\n",
    "    # Se retorna el resultado en un formato específico\n",
    "    result = [{\"Puesto {}\".format(i+1): name} for i, (name, _) in enumerate(top_3_games.items())]\n",
    "    \n",
    "    return result\n",
    "\n"
   ]
  },
  {
   "cell_type": "code",
   "execution_count": 9,
   "metadata": {},
   "outputs": [
    {
     "name": "stdout",
     "output_type": "stream",
     "text": [
      "[{'Puesto 1': 'Team Fortress 2'}, {'Puesto 2': 'Portal 2'}, {'Puesto 3': 'Terraria'}]\n"
     ]
    }
   ],
   "source": [
    "# Ejemplo de uso:\n",
    "año = 2011\n",
    "resultado = UsersRecommend(año)\n",
    "print(resultado)"
   ]
  },
  {
   "cell_type": "code",
   "execution_count": 63,
   "metadata": {},
   "outputs": [],
   "source": [
    "def UsersWorstDeveloper(año):\n",
    "    # Se filtra el DataFrame resultante para el año específico\n",
    "    reduce_df = df_UserReviews[(df_UserReviews['year'] == año) & \n",
    "                               (df_UserReviews['recommend'] == False) & \n",
    "                               (df_UserReviews['sentiment_analysis'].isin([0, -1]))]\n",
    "    \n",
    "    # Se hace un join entre df_UserReviews y df_steamgames utilizando 'item_id' como clave\n",
    "    merged_reviews = pd.merge(reduce_df, df_SteamGames[['item_id', 'name','developer']], on='item_id', how='left')\n",
    "   \n",
    "    # Se calcula la frecuencia de cada juego\n",
    "    game_count= merged_reviews['developer'].value_counts()\n",
    "\n",
    "    \n",
    "    # Se selecciona el top 3 de juegos más recomendados, estos estan ordenados de mayor a menor por el value_counts\n",
    "    top_3_worst_games = game_count.head(3)\n",
    "\n",
    "    # Se retorna el resultado en un formato específico\n",
    "    result = [{\"Puesto {}\".format(i+1): developer} for i, (developer, _) in enumerate(top_3_worst_games.items())]\n",
    "    \n",
    "    return result\n"
   ]
  },
  {
   "cell_type": "code",
   "execution_count": 65,
   "metadata": {},
   "outputs": [
    {
     "name": "stdout",
     "output_type": "stream",
     "text": [
      "[{'Puesto 1': 'Valve'}, {'Puesto 2': 'Bohemia Interactive'}, {'Puesto 3': 'Facepunch Studios'}]\n"
     ]
    }
   ],
   "source": [
    "# Ejemplo de uso:\n",
    "año = 2015\n",
    "resultado = UsersWorstDeveloper(año)\n",
    "print(resultado)"
   ]
  },
  {
   "cell_type": "code",
   "execution_count": 59,
   "metadata": {},
   "outputs": [],
   "source": [
    "def sentiment_analysis(desarrolladora):\n",
    "\n",
    "    # Se hace un join entre df_UserReviews y df_games utilizando 'item_id' como clave\n",
    "    merged_reviews = pd.merge(df_UserReviews,df_SteamGames[['item_id','developer']], on='item_id', how='left')\n",
    "\n",
    "    # Se filtra el DataFrame de reseñas por la desarrolladora específica\n",
    "    reviews_by_developer = merged_reviews[merged_reviews['developer'] == desarrolladora]\n",
    "\n",
    "    # Se realiza el análisis de sentimiento\n",
    "    sentiment_counts = reviews_by_developer['sentiment_analysis'].value_counts()\n",
    "\n",
    "    # Se crea el diccionario de resultado\n",
    "    result = {desarrolladora: {\n",
    "        'Negative': sentiment_counts.get(0, 0),\n",
    "        'Neutral': sentiment_counts.get(1, 0),\n",
    "        'Positive': sentiment_counts.get(2, 0)\n",
    "    }}\n",
    "    return result\n"
   ]
  },
  {
   "cell_type": "code",
   "execution_count": 67,
   "metadata": {},
   "outputs": [
    {
     "name": "stdout",
     "output_type": "stream",
     "text": [
      "{'Valve': {'Negative': 911, 'Neutral': 779, 'Positive': 4710}}\n"
     ]
    }
   ],
   "source": [
    "# Ejemplo de uso:\n",
    "desarrolladora = 'Valve'\n",
    "resultado = sentiment_analysis(desarrolladora)\n",
    "print(resultado)"
   ]
  }
 ],
 "metadata": {
  "kernelspec": {
   "display_name": "Python 3",
   "language": "python",
   "name": "python3"
  },
  "language_info": {
   "codemirror_mode": {
    "name": "ipython",
    "version": 3
   },
   "file_extension": ".py",
   "mimetype": "text/x-python",
   "name": "python",
   "nbconvert_exporter": "python",
   "pygments_lexer": "ipython3",
   "version": "3.10.11"
  },
  "orig_nbformat": 4,
  "vscode": {
   "interpreter": {
    "hash": "d7514066a4d7325c4286872ce37e90444efca390fae243deee8bc6d6d3ba2622"
   }
  }
 },
 "nbformat": 4,
 "nbformat_minor": 2
}
